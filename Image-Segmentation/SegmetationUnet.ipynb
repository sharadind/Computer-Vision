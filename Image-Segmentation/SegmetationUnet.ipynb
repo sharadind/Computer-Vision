{
  "nbformat": 4,
  "nbformat_minor": 0,
  "metadata": {
    "colab": {
      "name": "SegmetationUnet.ipynb",
      "version": "0.3.2",
      "provenance": [],
      "toc_visible": true
    },
    "kernelspec": {
      "name": "python3",
      "display_name": "Python 3"
    },
    "accelerator": "GPU"
  },
  "cells": [
    {
      "cell_type": "code",
      "metadata": {
        "id": "f2K0EHBW72iE",
        "colab_type": "code",
        "colab": {}
      },
      "source": [
        "import os\n",
        "import sys\n",
        "import random\n",
        "\n",
        "import numpy as np\n",
        "import cv2\n",
        "import matplotlib.pyplot as plt\n",
        "\n",
        "import tensorflow as tf\n",
        "from tensorflow import keras\n",
        "\n",
        "## Seeding \n",
        "seed = 2019\n",
        "random.seed = seed\n",
        "np.random.seed = seed\n",
        "tf.seed = seed"
      ],
      "execution_count": 0,
      "outputs": []
    },
    {
      "cell_type": "code",
      "metadata": {
        "id": "CB4N1q1TUs_9",
        "colab_type": "code",
        "outputId": "f0525788-a554-4f23-c125-c3fbafc028b8",
        "colab": {
          "base_uri": "https://localhost:8080/",
          "height": 55
        }
      },
      "source": [
        "from google.colab import drive\n",
        "drive.mount('/content/gdrive')"
      ],
      "execution_count": 0,
      "outputs": [
        {
          "output_type": "stream",
          "text": [
            "Drive already mounted at /content/gdrive; to attempt to forcibly remount, call drive.mount(\"/content/gdrive\", force_remount=True).\n"
          ],
          "name": "stdout"
        }
      ]
    },
    {
      "cell_type": "code",
      "metadata": {
        "id": "zOiG6lIRUvcD",
        "colab_type": "code",
        "colab": {}
      },
      "source": [
        "!unzip \"/content/gdrive/My Drive/Image.zip\""
      ],
      "execution_count": 0,
      "outputs": []
    },
    {
      "cell_type": "code",
      "metadata": {
        "id": "BVLYTGXVUxOL",
        "colab_type": "code",
        "colab": {}
      },
      "source": [
        ""
      ],
      "execution_count": 0,
      "outputs": []
    },
    {
      "cell_type": "code",
      "metadata": {
        "id": "FP1Yc8f98yAA",
        "colab_type": "code",
        "colab": {}
      },
      "source": [
        "class DataGen(keras.utils.Sequence):\n",
        "  def __init__(self, ids, path, batch_size, image_size):\n",
        "    self.ids= ids\n",
        "    self.path = path \n",
        "    self.batch_size= batch_size \n",
        "    self.image_size= image_size\n",
        "    self.on_epoch_end()\n",
        "   \n",
        "  def __load__(self,id_name):\n",
        "    #definging image and mask path structure\n",
        "    image_path = os.path.join(self.path, id_name, 'images', id_name) + \".png\"\n",
        "    mask_path = os.path.join(self.path, id_name, \"masks/\")\n",
        "    all_masks = os.listdir(mask_path)\n",
        "    \n",
        "    #reading images\n",
        "    image = cv2.imread(image_path,1)\n",
        "    image = cv2.resize(image,(self.image_size, self.image_size)) #resize\n",
        "    \n",
        "    #reading Masks\n",
        "    mask = np.zeros((self.image_size, self.image_size,1)) #baseline\n",
        "    \n",
        "    for name in all_masks:\n",
        "      _mask_path = mask_path + name\n",
        "      _mask_image = cv2.imread(_mask_path,-1)\n",
        "      _mask_image = cv2.resize(_mask_image, (self.image_size,self.image_size)) #resize\n",
        "      _mask_image = np.expand_dims(_mask_image,axis= -1)\n",
        "      mask = np.maximum(mask, _mask_image) \n",
        "      \n",
        "    #normalizing \n",
        "    image = image/255.0\n",
        "    mask = mask/255.0\n",
        "    \n",
        "    return image, mask \n",
        "  \n",
        "  def __getitem__(self, index):\n",
        "    if (index+1)*self.batch_size > len(self.ids):\n",
        "      self.batch_size = len(self.ids)- (index*self.batch_size)\n",
        "\n",
        "    files_batch = self.ids[(index)*self.batch_size:(index+1)*self.batch_size]\n",
        "    \n",
        "    image=[]\n",
        "    mask=[]\n",
        "    \n",
        "    for id_name in files_batch:\n",
        "      _image , _mask = self.__load__(id_name)\n",
        "      image.append(_image)\n",
        "      mask.append(_mask)\n",
        "      \n",
        "    image = np.array(image)\n",
        "    mask = np.array(mask)\n",
        "    \n",
        "    return image, mask \n",
        "  \n",
        "  def on_epoch_end(self):\n",
        "    pass\n",
        "  \n",
        "  def __len__(self):\n",
        "    return int(np.ceil(len(self.ids)/float(self.batch_size)))"
      ],
      "execution_count": 0,
      "outputs": []
    },
    {
      "cell_type": "markdown",
      "metadata": {
        "id": "boM98IHyEak4",
        "colab_type": "text"
      },
      "source": [
        "### Hyperparameters "
      ]
    },
    {
      "cell_type": "code",
      "metadata": {
        "id": "ZknppI3HESyG",
        "colab_type": "code",
        "colab": {}
      },
      "source": [
        "image_size= 128\n",
        "batch_size=5\n",
        "epochs=5\n",
        "train_path = \"/content/Image/images\"\n",
        "\n",
        "data_ids = next(os.walk(train_path))[1]\n",
        "\n",
        "valid_size = 10\n",
        "\n",
        "vaidation_ids = data_ids[:valid_size]\n",
        "train_set_ids = data_ids[valid_size:]\n",
        "\n"
      ],
      "execution_count": 0,
      "outputs": []
    },
    {
      "cell_type": "markdown",
      "metadata": {
        "id": "o5SckqFkOr-W",
        "colab_type": "text"
      },
      "source": [
        "#### Get data"
      ]
    },
    {
      "cell_type": "code",
      "metadata": {
        "id": "HwuyJAlaFhuQ",
        "colab_type": "code",
        "outputId": "2b11aec2-dbcc-4e12-9828-bebef2ace0c4",
        "colab": {
          "base_uri": "https://localhost:8080/",
          "height": 35
        }
      },
      "source": [
        "gen = DataGen(train_set_ids, train_path, batch_size=batch_size, image_size=image_size)\n",
        "x, y = gen.__getitem__(0)\n",
        "print(x.shape, y.shape)"
      ],
      "execution_count": 91,
      "outputs": [
        {
          "output_type": "stream",
          "text": [
            "(5, 128, 128, 3) (5, 128, 128, 1)\n"
          ],
          "name": "stdout"
        }
      ]
    },
    {
      "cell_type": "code",
      "metadata": {
        "id": "koqaGIg0GKXE",
        "colab_type": "code",
        "outputId": "fcb8daf3-6455-4c6f-f9bf-558bb96d3830",
        "colab": {
          "base_uri": "https://localhost:8080/",
          "height": 297
        }
      },
      "source": [
        "plt.figure(figsize=(10,4))\n",
        "\n",
        "r = random.randint(0, len(x)-1)\n",
        "\n",
        "plt.subplot(1,2,1)\n",
        "plt.imshow(x[r])\n",
        "plt.axis('off')\n",
        "\n",
        "plt.subplot(1,2,2)\n",
        "plt.imshow(np.reshape(y[r],(image_size,image_size)),cmap= 'gray')\n",
        "plt.axis('off')\n",
        "\n",
        "\n",
        "plt.tight_layout()\n",
        "plt.show()"
      ],
      "execution_count": 92,
      "outputs": [
        {
          "output_type": "display_data",
          "data": {
            "image/png": "[encoded data removed]",
            "text/plain": [
              "<Figure size 720x288 with 2 Axes>"
            ]
          },
          "metadata": {
            "tags": []
          }
        }
      ]
    },
    {
      "cell_type": "markdown",
      "metadata": {
        "id": "45hqDQA-N9_-",
        "colab_type": "text"
      },
      "source": [
        "#### U-NET"
      ]
    },
    {
      "cell_type": "code",
      "metadata": {
        "id": "omoKQFFYHfhM",
        "colab_type": "code",
        "colab": {}
      },
      "source": [
        "def down_block(x, filters, kernel_size=(3, 3), padding=\"same\", strides=1):\n",
        "    c = keras.layers.Conv2D(filters, kernel_size, padding=padding, strides=strides, activation=\"relu\")(x)\n",
        "    c = keras.layers.Conv2D(filters, kernel_size, padding=padding, strides=strides, activation=\"relu\")(c)\n",
        "    p = keras.layers.MaxPool2D((2, 2), (2, 2))(c)\n",
        "    return c, p\n",
        "\n",
        "def up_block(x, skip, filters, kernel_size=(3, 3), padding=\"same\", strides=1):\n",
        "    us = keras.layers.UpSampling2D((2, 2))(x)\n",
        "    concat = keras.layers.Concatenate()([us, skip])\n",
        "    c = keras.layers.Conv2D(filters, kernel_size, padding=padding, strides=strides, activation=\"relu\")(concat)\n",
        "    c = keras.layers.Conv2D(filters, kernel_size, padding=padding, strides=strides, activation=\"relu\")(c)\n",
        "    return c\n",
        "\n",
        "def bottleneck(x, filters, kernel_size=(3, 3), padding=\"same\", strides=1):\n",
        "    c = keras.layers.Conv2D(filters, kernel_size, padding=padding, strides=strides, activation=\"relu\")(x)\n",
        "    c = keras.layers.Conv2D(filters, kernel_size, padding=padding, strides=strides, activation=\"relu\")(c)\n",
        "    return c"
      ],
      "execution_count": 0,
      "outputs": []
    },
    {
      "cell_type": "code",
      "metadata": {
        "id": "ktuCT9uqOQ5t",
        "colab_type": "code",
        "colab": {}
      },
      "source": [
        "def UNet():\n",
        "    f = [16, 32, 64, 128, 256]\n",
        "    inputs = keras.layers.Input((image_size, image_size, 3))\n",
        "    \n",
        "    p0 = inputs\n",
        "    c1, p1 = down_block(p0, f[0]) #128 -> 64\n",
        "    c2, p2 = down_block(p1, f[1]) #64 -> 32\n",
        "    c3, p3 = down_block(p2, f[2]) #32 -> 16\n",
        "    c4, p4 = down_block(p3, f[3]) #16->8\n",
        "    \n",
        "    bn = bottleneck(p4, f[4])\n",
        "    \n",
        "    u1 = up_block(bn, c4, f[3]) #8 -> 16\n",
        "    u2 = up_block(u1, c3, f[2]) #16 -> 32\n",
        "    u3 = up_block(u2, c2, f[1]) #32 -> 64\n",
        "    u4 = up_block(u3, c1, f[0]) #64 -> 128\n",
        "    \n",
        "    outputs = keras.layers.Conv2D(1, (1, 1), padding=\"same\", activation=\"sigmoid\")(u4)\n",
        "    model = keras.models.Model(inputs, outputs)\n",
        "    return model"
      ],
      "execution_count": 0,
      "outputs": []
    },
    {
      "cell_type": "code",
      "metadata": {
        "id": "g9_oR_sVOUvE",
        "colab_type": "code",
        "colab": {}
      },
      "source": [
        "model = UNet()\n",
        "model.compile(optimizer=\"adam\", loss=\"binary_crossentropy\", metrics=[\"acc\"])\n",
        "#model.summary()"
      ],
      "execution_count": 0,
      "outputs": []
    },
    {
      "cell_type": "code",
      "metadata": {
        "id": "Ttmv7ttaOV0I",
        "colab_type": "code",
        "outputId": "a77b8af4-eece-4863-819b-8799e066bd40",
        "colab": {
          "base_uri": "https://localhost:8080/",
          "height": 324
        }
      },
      "source": [
        "train_gen = DataGen(train_set_ids, \n",
        "                    train_path, \n",
        "                    image_size=image_size, \n",
        "                    batch_size=batch_size)\n",
        "valid_gen = DataGen(vaidations_ids, \n",
        "                    train_path, \n",
        "                    image_size=image_size, \n",
        "                    batch_size=batch_size)\n",
        "\n",
        "train_steps = len(train_set_ids)//batch_size\n",
        "valid_steps = len(vaidations_ids)//batch_size\n",
        "\n",
        "model.fit_generator(train_gen, \n",
        "                    validation_data=valid_gen, \n",
        "                    steps_per_epoch=train_steps, \n",
        "                    validation_steps=valid_steps,\n",
        "                    epochs=5)"
      ],
      "execution_count": 94,
      "outputs": [
        {
          "output_type": "stream",
          "text": [
            "Epoch 1/5\n",
            "2/2 [==============================] - 1s 428ms/step - loss: 2.5701 - acc: 0.7712\n",
            "44/44 [==============================] - 12s 279ms/step - loss: 2.8191 - acc: 0.8241 - val_loss: 2.5701 - val_acc: 0.7712\n",
            "Epoch 2/5\n",
            "2/2 [==============================] - 1s 350ms/step - loss: 1.8381 - acc: 0.7712\n",
            "44/44 [==============================] - 10s 220ms/step - loss: 1.7871 - acc: 0.8457 - val_loss: 1.8381 - val_acc: 0.7712\n",
            "Epoch 3/5\n",
            "2/2 [==============================] - 1s 361ms/step - loss: 1.4338 - acc: 0.7897\n",
            "44/44 [==============================] - 10s 224ms/step - loss: 1.3395 - acc: 0.8507 - val_loss: 1.4338 - val_acc: 0.7897\n",
            "Epoch 4/5\n",
            "2/2 [==============================] - 1s 345ms/step - loss: 1.1719 - acc: 0.8813\n",
            "44/44 [==============================] - 10s 219ms/step - loss: 1.0319 - acc: 0.8881 - val_loss: 1.1719 - val_acc: 0.8813\n",
            "Epoch 5/5\n",
            "2/2 [==============================] - 1s 371ms/step - loss: 0.8869 - acc: 0.9008\n",
            "44/44 [==============================] - 10s 227ms/step - loss: 0.8403 - acc: 0.9190 - val_loss: 0.8869 - val_acc: 0.9008\n"
          ],
          "name": "stdout"
        },
        {
          "output_type": "execute_result",
          "data": {
            "text/plain": [
              "<tensorflow.python.keras.callbacks.History at 0x7fb5592bc8d0>"
            ]
          },
          "metadata": {
            "tags": []
          },
          "execution_count": 94
        }
      ]
    },
    {
      "cell_type": "code",
      "metadata": {
        "id": "iVGPNK8KPGGs",
        "colab_type": "code",
        "colab": {}
      },
      "source": [
        "model.save_weights(\"UNetW.h5\")\n",
        "\n",
        "## Dataset for prediction\n",
        "x, y = valid_gen.__getitem__(1)\n",
        "result = model.predict(x)\n",
        "\n",
        "result = result > 0.5\n"
      ],
      "execution_count": 0,
      "outputs": []
    },
    {
      "cell_type": "code",
      "metadata": {
        "id": "JPUdc-Zf6RiE",
        "colab_type": "code",
        "colab": {
          "base_uri": "https://localhost:8080/",
          "height": 209
        },
        "outputId": "1d01dbbb-dc58-451e-d664-203adcfd0469"
      },
      "source": [
        "fig = plt.figure()\n",
        "fig.subplots_adjust(hspace=0.4, wspace=0.4)\n",
        "\n",
        "ax = fig.add_subplot(1, 2, 1)\n",
        "ax.imshow(np.reshape(y[0]*255, (image_size, image_size)), cmap=\"gray\")\n",
        "\n",
        "ax = fig.add_subplot(1, 2, 2)\n",
        "ax.imshow(np.reshape(result[0]*255, (image_size, image_size)), cmap=\"gray\")"
      ],
      "execution_count": 96,
      "outputs": [
        {
          "output_type": "execute_result",
          "data": {
            "text/plain": [
              "<matplotlib.image.AxesImage at 0x7fb5588c2080>"
            ]
          },
          "metadata": {
            "tags": []
          },
          "execution_count": 96
        },
        {
          "output_type": "display_data",
          "data": {
            "image/png": "[encoded data removed]",
            "text/plain": [
              "<Figure size 432x288 with 2 Axes>"
            ]
          },
          "metadata": {
            "tags": []
          }
        }
      ]
    },
    {
      "cell_type": "code",
      "metadata": {
        "id": "wveyuR1o6UTA",
        "colab_type": "code",
        "colab": {
          "base_uri": "https://localhost:8080/",
          "height": 209
        },
        "outputId": "29894871-7f6d-44b8-9baf-ce3e1bd9e451"
      },
      "source": [
        "fig = plt.figure()\n",
        "fig.subplots_adjust(hspace=0.4, wspace=0.4)\n",
        "\n",
        "ax = fig.add_subplot(1, 2, 1)\n",
        "ax.imshow(np.reshape(y[1]*255, (image_size, image_size)), cmap=\"gray\")\n",
        "\n",
        "ax = fig.add_subplot(1, 2, 2)\n",
        "ax.imshow(np.reshape(result[1]*255, (image_size, image_size)), cmap=\"gray\")"
      ],
      "execution_count": 97,
      "outputs": [
        {
          "output_type": "execute_result",
          "data": {
            "text/plain": [
              "<matplotlib.image.AxesImage at 0x7fb58a26d898>"
            ]
          },
          "metadata": {
            "tags": []
          },
          "execution_count": 97
        },
        {
          "output_type": "display_data",
          "data": {
            "image/png": "[encoded data removed]",
            "text/plain": [
              "<Figure size 432x288 with 2 Axes>"
            ]
          },
          "metadata": {
            "tags": []
          }
        }
      ]
    },
    {
      "cell_type": "code",
      "metadata": {
        "id": "Aiog0r0-6XFI",
        "colab_type": "code",
        "colab": {}
      },
      "source": [
        ""
      ],
      "execution_count": 0,
      "outputs": []
    }
  ]
}
