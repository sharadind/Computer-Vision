{
  "nbformat": 4,
  "nbformat_minor": 0,
  "metadata": {
    "colab": {
      "name": "image_classification_cats/dogs.ipynb",
      "version": "0.3.2",
      "provenance": []
    },
    "kernelspec": {
      "name": "python3",
      "display_name": "Python 3"
    },
    "accelerator": "GPU"
  },
  "cells": [
    {
      "cell_type": "markdown",
      "metadata": {
        "id": "zRvlFNB9bCHb",
        "colab_type": "text"
      },
      "source": [
        "### Image Classification - Cats/Dogs "
      ]
    },
    {
      "cell_type": "markdown",
      "metadata": {
        "id": "IO_s6zsAa92X",
        "colab_type": "text"
      },
      "source": [
        "Required Layer Libraries"
      ]
    },
    {
      "cell_type": "code",
      "metadata": {
        "id": "feTJPoiQY1BD",
        "colab_type": "code",
        "colab": {}
      },
      "source": [
        "from keras.models import Sequential\n",
        "from keras.layers import Conv2D\n",
        "from keras.layers import MaxPooling2D\n",
        "from keras.layers import Flatten\n",
        "from keras.layers import Dense"
      ],
      "execution_count": 0,
      "outputs": []
    },
    {
      "cell_type": "code",
      "metadata": {
        "id": "uwAy90G9Y7Zg",
        "colab_type": "code",
        "colab": {}
      },
      "source": [
        "classifier = Sequential()\n",
        "classifier.add(Conv2D(32, (3, 3), input_shape = (64, 64, 3), activation = 'relu'))\n",
        "classifier.add(MaxPooling2D(pool_size = (2, 2)))\n",
        "classifier.add(Flatten())\n",
        "classifier.add(Dense(units = 128, activation = 'relu'))\n",
        "classifier.add(Dense(units = 1, activation = 'sigmoid'))\n",
        "classifier.compile(optimizer = 'adam', loss = 'binary_crossentropy', metrics = ['accuracy'])"
      ],
      "execution_count": 0,
      "outputs": []
    },
    {
      "cell_type": "markdown",
      "metadata": {
        "id": "Vt0TXAJwa32B",
        "colab_type": "text"
      },
      "source": [
        "\n",
        "\n",
        "```\n",
        "# This is formatted as code\n",
        "```\n",
        "\n",
        "data downoad from drive\n"
      ]
    },
    {
      "cell_type": "code",
      "metadata": {
        "id": "qocrPINTh5Q6",
        "colab_type": "code",
        "outputId": "88ddeb74-e548-4883-bfea-042e9d77fa64",
        "colab": {
          "base_uri": "https://localhost:8080/",
          "height": 127
        }
      },
      "source": [
        "from google.colab import drive\n",
        "drive.mount('/content/drive')"
      ],
      "execution_count": 13,
      "outputs": [
        {
          "output_type": "stream",
          "text": [
            "Go to this URL in a browser: https://accounts.google.com/o/oauth2/auth?client_id=947318989803-6bn6qk8qdgf4n4g3pfee6491hc0brc4i.apps.googleusercontent.com&redirect_uri=urn%3Aietf%3Awg%3Aoauth%3A2.0%3Aoob&scope=email%20https%3A%2F%2Fwww.googleapis.com%2Fauth%2Fdocs.test%20https%3A%2F%2Fwww.googleapis.com%2Fauth%2Fdrive%20https%3A%2F%2Fwww.googleapis.com%2Fauth%2Fdrive.photos.readonly%20https%3A%2F%2Fwww.googleapis.com%2Fauth%2Fpeopleapi.readonly&response_type=code\n",
            "\n",
            "Enter your authorization code:\n",
            "··········\n",
            "Mounted at /content/drive\n"
          ],
          "name": "stdout"
        }
      ]
    },
    {
      "cell_type": "code",
      "metadata": {
        "id": "LbwYdV2zcYLD",
        "colab_type": "code",
        "colab": {}
      },
      "source": [
        "from keras.preprocessing.image import ImageDataGenerator"
      ],
      "execution_count": 0,
      "outputs": []
    },
    {
      "cell_type": "code",
      "metadata": {
        "id": "offFC3cIbg4N",
        "colab_type": "code",
        "outputId": "c7aa6fce-072e-4ac4-b3bc-b7f3091317e9",
        "colab": {
          "base_uri": "https://localhost:8080/",
          "height": 53
        }
      },
      "source": [
        "train_datagen = ImageDataGenerator(rescale = 1./255,\n",
        "shear_range = 0.2,\n",
        "zoom_range = 0.2,\n",
        "horizontal_flip = True)\n",
        "test_datagen = ImageDataGenerator(rescale = 1./255)\n",
        "training_set = train_datagen.flow_from_directory('/content/drive/My Drive/CNN_Data/training_set',target_size = (64, 64),batch_size = 32,class_mode = 'binary')\n",
        "test_set = test_datagen.flow_from_directory('/content/drive/My Drive/CNN_Data/test_set',\n",
        "target_size = (64, 64),\n",
        "batch_size = 32,\n",
        "class_mode = 'binary')"
      ],
      "execution_count": 17,
      "outputs": [
        {
          "output_type": "stream",
          "text": [
            "Found 1589 images belonging to 2 classes.\n",
            "Found 378 images belonging to 2 classes.\n"
          ],
          "name": "stdout"
        }
      ]
    },
    {
      "cell_type": "markdown",
      "metadata": {
        "id": "3yBJJuE1lCJo",
        "colab_type": "text"
      },
      "source": [
        "fit the data "
      ]
    },
    {
      "cell_type": "code",
      "metadata": {
        "id": "fkvUU1Njkc3R",
        "colab_type": "code",
        "outputId": "abecbab5-466a-4995-908c-3814599e2dc7",
        "colab": {
          "base_uri": "https://localhost:8080/",
          "height": 393
        }
      },
      "source": [
        "classifier.fit_generator(training_set,\n",
        "steps_per_epoch = 1000,\n",
        "epochs = 10,\n",
        "validation_data = test_set,\n",
        "validation_steps = 500)"
      ],
      "execution_count": 18,
      "outputs": [
        {
          "output_type": "stream",
          "text": [
            "Epoch 1/10\n",
            "1000/1000 [==============================] - 532s 532ms/step - loss: 0.5258 - acc: 0.7336 - val_loss: 0.7905 - val_acc: 0.6880\n",
            "Epoch 2/10\n",
            "1000/1000 [==============================] - 141s 141ms/step - loss: 0.3286 - acc: 0.8536 - val_loss: 0.7952 - val_acc: 0.7245\n",
            "Epoch 3/10\n",
            "1000/1000 [==============================] - 139s 139ms/step - loss: 0.1945 - acc: 0.9218 - val_loss: 1.1050 - val_acc: 0.7246\n",
            "Epoch 4/10\n",
            "1000/1000 [==============================] - 140s 140ms/step - loss: 0.1100 - acc: 0.9590 - val_loss: 1.1475 - val_acc: 0.7535\n",
            "Epoch 5/10\n",
            "1000/1000 [==============================] - 140s 140ms/step - loss: 0.0612 - acc: 0.9794 - val_loss: 1.3615 - val_acc: 0.7194\n",
            "Epoch 6/10\n",
            "1000/1000 [==============================] - 139s 139ms/step - loss: 0.0403 - acc: 0.9873 - val_loss: 1.4600 - val_acc: 0.7358\n",
            "Epoch 7/10\n",
            "1000/1000 [==============================] - 136s 136ms/step - loss: 0.0349 - acc: 0.9887 - val_loss: 1.6747 - val_acc: 0.7352\n",
            "Epoch 8/10\n",
            "1000/1000 [==============================] - 135s 135ms/step - loss: 0.0313 - acc: 0.9893 - val_loss: 1.7788 - val_acc: 0.7482\n",
            "Epoch 9/10\n",
            "1000/1000 [==============================] - 135s 135ms/step - loss: 0.0296 - acc: 0.9900 - val_loss: 1.8569 - val_acc: 0.7440\n",
            "Epoch 10/10\n",
            "1000/1000 [==============================] - 134s 134ms/step - loss: 0.0236 - acc: 0.9928 - val_loss: 2.0904 - val_acc: 0.7142\n"
          ],
          "name": "stdout"
        },
        {
          "output_type": "execute_result",
          "data": {
            "text/plain": [
              "<keras.callbacks.History at 0x7f84981a2048>"
            ]
          },
          "metadata": {
            "tags": []
          },
          "execution_count": 18
        }
      ]
    },
    {
      "cell_type": "markdown",
      "metadata": {
        "id": "ApstmDJupeZC",
        "colab_type": "text"
      },
      "source": [
        "Test"
      ]
    },
    {
      "cell_type": "code",
      "metadata": {
        "id": "DNhBFLlzlELt",
        "colab_type": "code",
        "outputId": "b2029ece-21df-4a1a-824b-d9ff520a84be",
        "colab": {
          "base_uri": "https://localhost:8080/",
          "height": 35
        }
      },
      "source": [
        "import numpy as np\n",
        "from keras.preprocessing import image\n",
        "test_image = image.load_img('/content/dog.jpg', target_size = (64, 64))\n",
        "test_image = image.img_to_array(test_image)\n",
        "test_image = np.expand_dims(test_image, axis = 0)\n",
        "result = classifier.predict(test_image)\n",
        "training_set.class_indices\n",
        "if result[0][0] == 1:\n",
        "  prediction = 'dog'\n",
        "else:\n",
        "  prediction = 'cat'\n",
        "  \n",
        "print(prediction)"
      ],
      "execution_count": 22,
      "outputs": [
        {
          "output_type": "stream",
          "text": [
            "dog\n"
          ],
          "name": "stdout"
        }
      ]
    },
    {
      "cell_type": "code",
      "metadata": {
        "id": "SHbEJZjvpvyp",
        "colab_type": "code",
        "colab": {}
      },
      "source": [
        ""
      ],
      "execution_count": 0,
      "outputs": []
    }
  ]
}
