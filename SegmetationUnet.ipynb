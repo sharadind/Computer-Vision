{
  "nbformat": 4,
  "nbformat_minor": 0,
  "metadata": {
    "colab": {
      "name": "SegmetationUnet.ipynb",
      "version": "0.3.2",
      "provenance": [],
      "include_colab_link": true
    },
    "kernelspec": {
      "name": "python3",
      "display_name": "Python 3"
    },
    "accelerator": "GPU"
  },
  "cells": [
    {
      "cell_type": "markdown",
      "metadata": {
        "id": "view-in-github",
        "colab_type": "text"
      },
      "source": [
        "<a href=\"https://colab.research.google.com/github/sharadind/Computer-Vision/blob/master/SegmetationUnet.ipynb\" target=\"_parent\"><img src=\"https://colab.research.google.com/assets/colab-badge.svg\" alt=\"Open In Colab\"/></a>"
      ]
    },
    {
      "cell_type": "code",
      "metadata": {
        "id": "f2K0EHBW72iE",
        "colab_type": "code",
        "colab": {}
      },
      "source": [
        "import os\n",
        "import sys\n",
        "import random\n",
        "\n",
        "import numpy as np\n",
        "import cv2\n",
        "import matplotlib.pyplot as plt\n",
        "\n",
        "import tensorflow as tf\n",
        "from tensorflow import keras\n",
        "\n",
        "## Seeding \n",
        "seed = 2019\n",
        "random.seed = seed\n",
        "np.random.seed = seed\n",
        "tf.seed = seed"
      ],
      "execution_count": 0,
      "outputs": []
    },
    {
      "cell_type": "code",
      "metadata": {
        "id": "CB4N1q1TUs_9",
        "colab_type": "code",
        "outputId": "b1bcddb2-aae6-4eb8-888f-f9a4649e1ed0",
        "colab": {
          "base_uri": "https://localhost:8080/",
          "height": 127
        }
      },
      "source": [
        "from google.colab import drive\n",
        "drive.mount('/content/gdrive')"
      ],
      "execution_count": 0,
      "outputs": [
        {
          "output_type": "stream",
          "text": [
            "Go to this URL in a browser: https://accounts.google.com/o/oauth2/auth?client_id=947318989803-6bn6qk8qdgf4n4g3pfee6491hc0brc4i.apps.googleusercontent.com&redirect_uri=urn%3Aietf%3Awg%3Aoauth%3A2.0%3Aoob&scope=email%20https%3A%2F%2Fwww.googleapis.com%2Fauth%2Fdocs.test%20https%3A%2F%2Fwww.googleapis.com%2Fauth%2Fdrive%20https%3A%2F%2Fwww.googleapis.com%2Fauth%2Fdrive.photos.readonly%20https%3A%2F%2Fwww.googleapis.com%2Fauth%2Fpeopleapi.readonly&response_type=code\n",
            "\n",
            "Enter your authorization code:\n",
            "··········\n",
            "Mounted at /content/gdrive\n"
          ],
          "name": "stdout"
        }
      ]
    },
    {
      "cell_type": "code",
      "metadata": {
        "id": "zOiG6lIRUvcD",
        "colab_type": "code",
        "colab": {}
      },
      "source": [
        "!unzip \"/content/gdrive/My Drive/Image.zip\""
      ],
      "execution_count": 0,
      "outputs": []
    },
    {
      "cell_type": "code",
      "metadata": {
        "id": "BVLYTGXVUxOL",
        "colab_type": "code",
        "colab": {}
      },
      "source": [
        ""
      ],
      "execution_count": 0,
      "outputs": []
    },
    {
      "cell_type": "code",
      "metadata": {
        "id": "FP1Yc8f98yAA",
        "colab_type": "code",
        "colab": {}
      },
      "source": [
        "class DataGen(keras.utils.Sequence):\n",
        "  def __init__(self, ids, path, batch_size, image_size):\n",
        "    self.ids= ids\n",
        "    self.path = path \n",
        "    self.batch_size= batch_size \n",
        "    self.image_size= image_size\n",
        "    self.on_epoch_end()\n",
        "   \n",
        "  def __load__(self,id_name):\n",
        "    #definging image and mask path structure\n",
        "    image_path = os.path.join(self.path, id_name, 'images', id_name) + \".png\"\n",
        "    mask_path = os.path.join(self.path, id_name, \"masks/\")\n",
        "    all_masks = os.listdir(mask_path)\n",
        "    \n",
        "    #reading images\n",
        "    image = cv2.imread(image_path,1)\n",
        "    image = cv2.resize(image,(self.image_size, self.image_size)) #resize\n",
        "    \n",
        "    #reading Masks\n",
        "    mask = np.zeros((self.image_size, self.image_size,1)) #baseline\n",
        "    \n",
        "    for name in all_masks:\n",
        "      _mask_path = mask_path + name\n",
        "      _mask_image = cv2.imread(_mask_path,-1)\n",
        "      _mask_image = cv2.resize(_mask_image, (self.image_size,self.image_size)) #resize\n",
        "      _mask_image = np.expand_dims(_mask_image,axis= -1)\n",
        "      mask = np.maximum(mask, _mask_image) \n",
        "      \n",
        "    #normalizing \n",
        "    image = image/255.0\n",
        "    mask = mask/255.0\n",
        "    \n",
        "    return image, mask \n",
        "  \n",
        "  def __getitem__(self, index):\n",
        "    if (index+1)*self.batch_size > len(self.ids):\n",
        "      self.batch_size = len(self.ids)- (index*self.batch_size)\n",
        "\n",
        "    files_batch = self.ids[(index)*self.batch_size:(index+1)*self.batch_size]\n",
        "    \n",
        "    image=[]\n",
        "    mask=[]\n",
        "    \n",
        "    for id_name in files_batch:\n",
        "      _image , _mask = self.__load__(id_name)\n",
        "      image.append(_image)\n",
        "      mask.append(_mask)\n",
        "      \n",
        "    image = np.array(image)\n",
        "    mask = np.array(mask)\n",
        "    \n",
        "    return image, mask \n",
        "  \n",
        "  def on_epoch_end(self):\n",
        "    pass\n",
        "  \n",
        "  def __len__(self):\n",
        "    return int(np.ceil(len(self.ids)/float(self.batch_size)))"
      ],
      "execution_count": 0,
      "outputs": []
    },
    {
      "cell_type": "markdown",
      "metadata": {
        "id": "boM98IHyEak4",
        "colab_type": "text"
      },
      "source": [
        "### Hyperparameters "
      ]
    },
    {
      "cell_type": "code",
      "metadata": {
        "id": "ZknppI3HESyG",
        "colab_type": "code",
        "colab": {}
      },
      "source": [
        "image_size= 128\n",
        "batch_size=15\n",
        "epoch= 10\n",
        "train_path = \"/content/Image/images\"\n",
        "\n",
        "data_ids = next(os.walk(train_path))[1]\n",
        "\n",
        "valid_size = 10\n",
        "\n",
        "vaidations_ids = data_ids[:valid_size]\n",
        "train_set_ids = data_ids[valid_size:]\n",
        "\n"
      ],
      "execution_count": 0,
      "outputs": []
    },
    {
      "cell_type": "markdown",
      "metadata": {
        "id": "o5SckqFkOr-W",
        "colab_type": "text"
      },
      "source": [
        "#### Get data"
      ]
    },
    {
      "cell_type": "code",
      "metadata": {
        "id": "HwuyJAlaFhuQ",
        "colab_type": "code",
        "outputId": "79e26de1-f490-4cb7-bedb-fbbf1b5fd727",
        "colab": {
          "base_uri": "https://localhost:8080/",
          "height": 35
        }
      },
      "source": [
        "gen = DataGen(train_set_ids, train_path, batch_size=batch_size, image_size=image_size)\n",
        "x, y = gen.__getitem__(0)\n",
        "print(x.shape, y.shape)"
      ],
      "execution_count": 0,
      "outputs": [
        {
          "output_type": "stream",
          "text": [
            "(8, 128, 128, 3) (8, 128, 128, 1)\n"
          ],
          "name": "stdout"
        }
      ]
    },
    {
      "cell_type": "code",
      "metadata": {
        "id": "koqaGIg0GKXE",
        "colab_type": "code",
        "outputId": "546eb5a9-2e2c-4ee9-acfc-f162ae66775a",
        "colab": {
          "base_uri": "https://localhost:8080/",
          "height": 297
        }
      },
      "source": [
        "plt.figure(figsize=(10,4))\n",
        "\n",
        "r = random.randint(0, len(x)-1)\n",
        "\n",
        "plt.subplot(1,2,1)\n",
        "plt.imshow(x[r])\n",
        "plt.axis('off')\n",
        "\n",
        "plt.subplot(1,2,2)\n",
        "plt.imshow(np.reshape(y[r],(image_size,image_size)),cmap= 'gray')\n",
        "plt.axis('off')\n",
        "\n",
        "\n",
        "plt.tight_layout()\n",
        "plt.show()"
      ],
      "execution_count": 0,
      "outputs": [
        {
          "output_type": "display_data",
          "data": {
            "image/png": "[encoded data removed]",
            "text/plain": [
              "<Figure size 720x288 with 2 Axes>"
            ]
          },
          "metadata": {
            "tags": []
          }
        }
      ]
    },
    {
      "cell_type": "markdown",
      "metadata": {
        "id": "45hqDQA-N9_-",
        "colab_type": "text"
      },
      "source": [
        "#### U-NET"
      ]
    },
    {
      "cell_type": "code",
      "metadata": {
        "id": "omoKQFFYHfhM",
        "colab_type": "code",
        "colab": {}
      },
      "source": [
        "def down_block(x, filters, kernel_size=(3, 3), padding=\"same\", strides=1):\n",
        "    c = keras.layers.Conv2D(filters, kernel_size, padding=padding, strides=strides, activation=\"relu\")(x)\n",
        "    c = keras.layers.Conv2D(filters, kernel_size, padding=padding, strides=strides, activation=\"relu\")(c)\n",
        "    p = keras.layers.MaxPool2D((2, 2), (2, 2))(c)\n",
        "    return c, p\n",
        "\n",
        "def up_block(x, skip, filters, kernel_size=(3, 3), padding=\"same\", strides=1):\n",
        "    us = keras.layers.UpSampling2D((2, 2))(x)\n",
        "    concat = keras.layers.Concatenate()([us, skip])\n",
        "    c = keras.layers.Conv2D(filters, kernel_size, padding=padding, strides=strides, activation=\"relu\")(concat)\n",
        "    c = keras.layers.Conv2D(filters, kernel_size, padding=padding, strides=strides, activation=\"relu\")(c)\n",
        "    return c\n",
        "\n",
        "def bottleneck(x, filters, kernel_size=(3, 3), padding=\"same\", strides=1):\n",
        "    c = keras.layers.Conv2D(filters, kernel_size, padding=padding, strides=strides, activation=\"relu\")(x)\n",
        "    c = keras.layers.Conv2D(filters, kernel_size, padding=padding, strides=strides, activation=\"relu\")(c)\n",
        "    return c"
      ],
      "execution_count": 0,
      "outputs": []
    },
    {
      "cell_type": "code",
      "metadata": {
        "id": "ktuCT9uqOQ5t",
        "colab_type": "code",
        "colab": {}
      },
      "source": [
        "def UNet():\n",
        "    f = [16, 32, 64, 128, 256]\n",
        "    inputs = keras.layers.Input((image_size, image_size, 3))\n",
        "    \n",
        "    p0 = inputs\n",
        "    c1, p1 = down_block(p0, f[0]) #128 -> 64\n",
        "    c2, p2 = down_block(p1, f[1]) #64 -> 32\n",
        "    c3, p3 = down_block(p2, f[2]) #32 -> 16\n",
        "    c4, p4 = down_block(p3, f[3]) #16->8\n",
        "    \n",
        "    bn = bottleneck(p4, f[4])\n",
        "    \n",
        "    u1 = up_block(bn, c4, f[3]) #8 -> 16\n",
        "    u2 = up_block(u1, c3, f[2]) #16 -> 32\n",
        "    u3 = up_block(u2, c2, f[1]) #32 -> 64\n",
        "    u4 = up_block(u3, c1, f[0]) #64 -> 128\n",
        "    \n",
        "    outputs = keras.layers.Conv2D(1, (1, 1), padding=\"same\", activation=\"sigmoid\")(u4)\n",
        "    model = keras.models.Model(inputs, outputs)\n",
        "    return model"
      ],
      "execution_count": 0,
      "outputs": []
    },
    {
      "cell_type": "code",
      "metadata": {
        "id": "g9_oR_sVOUvE",
        "colab_type": "code",
        "colab": {}
      },
      "source": [
        "model = UNet()\n",
        "model.compile(optimizer=\"adam\", loss=\"binary_crossentropy\", metrics=[\"acc\"])\n",
        "#model.summary()"
      ],
      "execution_count": 0,
      "outputs": []
    },
    {
      "cell_type": "code",
      "metadata": {
        "id": "Ttmv7ttaOV0I",
        "colab_type": "code",
        "colab": {}
      },
      "source": [
        "train_gen = DataGen(train_set_ids, \n",
        "                    train_path, \n",
        "                    image_size=image_size, \n",
        "                    batch_size=batch_size)\n",
        "valid_gen = DataGen(vaidations_ids, \n",
        "                    train_path, \n",
        "                    image_size=image_size, \n",
        "                    batch_size=batch_size)\n",
        "\n",
        "train_steps = len(train_set_ids)//batch_size\n",
        "valid_steps = len(vaidations_ids)//batch_size\n",
        "\n",
        "model.fit_generator(train_gen, \n",
        "                    validation_data=valid_gen, \n",
        "                    steps_per_epoch=train_steps, \n",
        "                    validation_steps=valid_steps,\n",
        "                    epochs=epoch)"
      ],
      "execution_count": 0,
      "outputs": []
    },
    {
      "cell_type": "code",
      "metadata": {
        "id": "iVGPNK8KPGGs",
        "colab_type": "code",
        "colab": {}
      },
      "source": [
        "model.save_weights(\"UNetW.h5\")\n",
        "\n",
        "## Dataset for prediction\n",
        "x, y = valid_gen.__getitem__(1)\n",
        "result = model.predict(x)\n",
        "\n",
        "result = result > 0.5\n"
      ],
      "execution_count": 0,
      "outputs": []
    },
    {
      "cell_type": "code",
      "metadata": {
        "id": "JPUdc-Zf6RiE",
        "colab_type": "code",
        "outputId": "b00c616d-943d-423e-fbec-3e141a276707",
        "colab": {
          "base_uri": "https://localhost:8080/",
          "height": 191
        }
      },
      "source": [
        "fig = plt.figure()\n",
        "fig.subplots_adjust(hspace=0.4, wspace=0.4)\n",
        "\n",
        "ax = fig.add_subplot(1, 2, 1)\n",
        "ax.imshow(np.reshape(y[0]*255, (image_size, image_size)), cmap=\"gray\")\n",
        "\n",
        "ax = fig.add_subplot(1, 2, 2)\n",
        "ax.imshow(np.reshape(result[0]*255, (image_size, image_size)), cmap=\"gray\")\n",
        "plt.show()"
      ],
      "execution_count": 0,
      "outputs": [
        {
          "output_type": "display_data",
          "data": {
            "image/png": "[encoded data removed]",
            "text/plain": [
              "<Figure size 432x288 with 2 Axes>"
            ]
          },
          "metadata": {
            "tags": []
          }
        }
      ]
    },
    {
      "cell_type": "code",
      "metadata": {
        "id": "wveyuR1o6UTA",
        "colab_type": "code",
        "outputId": "a5193dc8-d267-43f3-d724-6e407321e856",
        "colab": {
          "base_uri": "https://localhost:8080/",
          "height": 248
        }
      },
      "source": [
        "\n",
        "fig = plt.figure()\n",
        "plt.xticks([])\n",
        "plt.yticks([])\n",
        "plt.axis('off')\n",
        "fig.subplots_adjust(hspace=0.4, wspace=0.4)\n",
        "\n",
        "ax = fig.add_subplot(1, 2, 1)\n",
        "ax.imshow(np.reshape(y[1]*255, (image_size, image_size)), cmap=\"gray\")\n",
        "\n",
        "ax = fig.add_subplot(1, 2, 2)\n",
        "ax.imshow(np.reshape(result[1]*255, (image_size, image_size)), cmap=\"gray\")\n",
        "plt.show()\n"
      ],
      "execution_count": 0,
      "outputs": [
        {
          "output_type": "display_data",
          "data": {
            "image/png": "[encoded data removed]",
            "text/plain": [
              "<Figure size 432x288 with 3 Axes>"
            ]
          },
          "metadata": {
            "tags": []
          }
        }
      ]
    },
    {
      "cell_type": "code",
      "metadata": {
        "id": "Aiog0r0-6XFI",
        "colab_type": "code",
        "colab": {}
      },
      "source": [
        ""
      ],
      "execution_count": 0,
      "outputs": []
    }
  ]
}